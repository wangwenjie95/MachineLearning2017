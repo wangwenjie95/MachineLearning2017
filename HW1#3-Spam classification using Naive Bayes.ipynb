{
 "cells": [
  {
   "cell_type": "markdown",
   "metadata": {},
   "source": [
    "# Load Data"
   ]
  },
  {
   "cell_type": "code",
   "execution_count": 1,
   "metadata": {},
   "outputs": [
    {
     "data": {
      "text/plain": [
       "''"
      ]
     },
     "execution_count": 1,
     "metadata": {},
     "output_type": "execute_result"
    }
   ],
   "source": [
    "c\n",
    "import math\n",
    "filename='/Users/wendy/Documents/2017 Fall/CS 534/homework1/spam-dataset/train-features.txt'\n",
    "train_feature = np.loadtxt(filename)  \n",
    "filename='/Users/wendy/Documents/2017 Fall/CS 534/homework1/spam-dataset/test-features.txt'\n",
    "test_feature = np.loadtxt(filename)\n",
    "\n",
    "filename='/Users/wendy/Documents/2017 Fall/CS 534/homework1/spam-dataset/train-labels.txt'\n",
    "file=open(filename, 'r')\n",
    "train_label = file.read().split('\\n')\n",
    "train_label.pop()\n",
    "filename='/Users/wendy/Documents/2017 Fall/CS 534/homework1/spam-dataset/test-labels.txt'\n",
    "file=open(filename, 'r')\n",
    "test_label = file.read().split('\\n')\n",
    "test_label.pop()\n"
   ]
  },
  {
   "cell_type": "markdown",
   "metadata": {},
   "source": [
    "# Make Dictionary for words and frequency"
   ]
  },
  {
   "cell_type": "code",
   "execution_count": 2,
   "metadata": {
    "collapsed": true
   },
   "outputs": [],
   "source": [
    "classvote_0={}\n",
    "classvote_1={}\n",
    "for i in range(len(train_feature)):\n",
    "    votelabel=train_feature[i][1]\n",
    "    if int(train_label[int(train_feature[i][0])-1])==0:\n",
    "        if  votelabel in classvote_0:\n",
    "            classvote_0[votelabel]=classvote_0[votelabel]+train_feature[i][2]\n",
    "        else:\n",
    "            classvote_0[votelabel]=train_feature[i][2]\n",
    "    if int(train_label[int(train_feature[i][0])-1])==1:       \n",
    "        if  votelabel in classvote_1:\n",
    "            classvote_1[votelabel]=classvote_1[votelabel]+train_feature[i][2]\n",
    "        else:\n",
    "            classvote_1[votelabel]=train_feature[i][2]\n",
    "    \n",
    "#print classvote_0"
   ]
  },
  {
   "cell_type": "markdown",
   "metadata": {},
   "source": [
    "# Calculate total frequency"
   ]
  },
  {
   "cell_type": "code",
   "execution_count": 3,
   "metadata": {},
   "outputs": [
    {
     "name": "stdout",
     "output_type": "stream",
     "text": [
      "61762.0 91566.0\n"
     ]
    }
   ],
   "source": [
    "sum_0=0\n",
    "sum_1=0\n",
    "for i in range(len(train_feature)):\n",
    "    if train_feature[i][0]<=350:\n",
    "        sum_0+=train_feature[i][2]\n",
    "    if train_feature[i][0]>350:\n",
    "        sum_1+=train_feature[i][2]\n",
    "print sum_0, sum_1"
   ]
  },
  {
   "cell_type": "code",
   "execution_count": 4,
   "metadata": {
    "collapsed": true
   },
   "outputs": [],
   "source": [
    "def getsample(num):\n",
    "    sample=[]\n",
    "    for i in range(len(test_feature)-1):\n",
    "        if test_feature[i][0]==num:\n",
    "            sample.append(test_feature[i].tolist())\n",
    "    return sample\n",
    "        "
   ]
  },
  {
   "cell_type": "code",
   "execution_count": 5,
   "metadata": {
    "collapsed": true
   },
   "outputs": [],
   "source": [
    "def predict_for_spam(sample):\n",
    "    probability=0\n",
    "    for line in sample:\n",
    "        if line[1] in classvote_0:\n",
    "            probability=probability+line[2]*math.log(classvote_0[line[1]]/sum_0)\n",
    "            #print line[1],classvote_0[line[1]]\n",
    "        else:\n",
    "            probability=probability+line[2]*math.log(1/(sum_0+280))\n",
    "    probability=probability+math.log(0.5)\n",
    "    return probability\n",
    "def predict_for_nonspam(sample):\n",
    "    probability=0\n",
    "    for line in sample:\n",
    "        if line[1] in classvote_1:\n",
    "            probability=probability+line[2]*math.log(classvote_1[line[1]]/sum_1)\n",
    "\n",
    "        else:\n",
    "            probability=probability+line[2]*math.log(1/(sum_1+280))\n",
    "    probability=probability+math.log(0.5)\n",
    "    return probability\n",
    "       "
   ]
  },
  {
   "cell_type": "markdown",
   "metadata": {},
   "source": [
    "# Err_Rate and AUC for Test Data"
   ]
  },
  {
   "cell_type": "code",
   "execution_count": 6,
   "metadata": {
    "scrolled": false
   },
   "outputs": [
    {
     "name": "stdout",
     "output_type": "stream",
     "text": [
      "err_rate: 5\n",
      "AUC: 0.991124260355\n"
     ]
    }
   ],
   "source": [
    "#####err_rate for test###############\n",
    "final_result=[]\n",
    "p0_list=[]\n",
    "for i in range(260):\n",
    "    result=[i+1]\n",
    "    sample=getsample(i+1)\n",
    "    p0=predict_for_spam(sample)\n",
    "    p1=predict_for_nonspam(sample)\n",
    "\n",
    "    if p0>=p1:\n",
    "        A=p0\n",
    "\n",
    "        pro_0=p0-(A+math.log(math.exp(p0-A)+math.exp(p1-A)))\n",
    "        pro_1=p1-(A+math.log(math.exp(p0-A)+math.exp(p1-A)))\n",
    "\n",
    "        p0_list.append(pro_0)\n",
    "        result.append(0)\n",
    "    else:\n",
    "        A=p1\n",
    "\n",
    "        pro_0=p0/(A+math.log(math.exp(p0-A)+math.exp(p1-A)))\n",
    "        pro_1=p1/(A+math.log(math.exp(p0-A)+math.exp(p1-A)))\n",
    "        p0_list.append(pro_0)\n",
    "\n",
    "        result.append(1)\n",
    "        \n",
    "    if int(test_label[i])==0:\n",
    "        result.append(0)\n",
    "    else:\n",
    "        result.append(1)\n",
    "    final_result.append(result)\n",
    "\n",
    "err=0\n",
    "for i in final_result:\n",
    "    if i[1]!=i[2]:\n",
    "        err+=1\n",
    "print'err_rate:',err\n",
    "\n",
    "from sklearn.metrics import roc_auc_score\n",
    "score=p0_list\n",
    "label=[]\n",
    "for i in test_label:\n",
    "    i=int(i)\n",
    "    label.append(i)\n",
    "auc = roc_auc_score(label,score)\n",
    "print 'AUC:',auc"
   ]
  },
  {
   "cell_type": "markdown",
   "metadata": {},
   "source": [
    "The err_rate for the test data is 1.9%; AUC equals to 0.991"
   ]
  },
  {
   "cell_type": "code",
   "execution_count": 7,
   "metadata": {
    "collapsed": true
   },
   "outputs": [],
   "source": [
    "def getsample_train(num):\n",
    "    sample=[]\n",
    "    for i in range(len(train_feature)-1):\n",
    "        if train_feature[i][0]==num:\n",
    "            sample.append(train_feature[i].tolist())\n",
    "    return sample"
   ]
  },
  {
   "cell_type": "markdown",
   "metadata": {},
   "source": [
    "# Err_Rate and AUC for Training Data"
   ]
  },
  {
   "cell_type": "code",
   "execution_count": 8,
   "metadata": {},
   "outputs": [
    {
     "name": "stdout",
     "output_type": "stream",
     "text": [
      "err_rate: 9\n",
      "AUC: 0.977257142857\n"
     ]
    }
   ],
   "source": [
    "###########err_rate for train############\n",
    "p0_list=[]\n",
    "final_result=[]\n",
    "for i in range(700):\n",
    "    result=[i+1]\n",
    "    sample=getsample_train(i+1)\n",
    "    p0=predict_for_spam(sample)\n",
    "    p1=predict_for_nonspam(sample)\n",
    "\n",
    "    if p0>=p1:\n",
    "        A=p0\n",
    "\n",
    "        pro_0=p0-(A+math.log(math.exp(p0-A)+math.exp(p1-A)))\n",
    "        pro_1=p1-(A+math.log(math.exp(p0-A)+math.exp(p1-A)))\n",
    "\n",
    "        p0_list.append(pro_0)\n",
    "        #print p0_list\n",
    "        result.append(0)\n",
    "    else:\n",
    "        A=p1\n",
    "\n",
    "        pro_0=p0/(A+math.log(math.exp(p0-A)+math.exp(p1-A)))\n",
    "        pro_1=p1/(A+math.log(math.exp(p0-A)+math.exp(p1-A)))\n",
    "        p0_list.append(pro_0)\n",
    "\n",
    "        result.append(1)\n",
    "        \n",
    "    if int(train_label[i])==0:\n",
    "        result.append(0)\n",
    "    else:\n",
    "        result.append(1)\n",
    "    final_result.append(result)\n",
    "      \n",
    "err=0\n",
    "for i in final_result:\n",
    "    if i[1]!=i[2]:\n",
    "        err+=1\n",
    "print'err_rate:',err\n",
    "\n",
    "from sklearn.metrics import roc_auc_score\n",
    "score=p0_list\n",
    "label=[]\n",
    "for i in train_label:\n",
    "    i=int(i)\n",
    "    label.append(i)\n",
    "auc = roc_auc_score(label,score)\n",
    "print 'AUC:',auc"
   ]
  },
  {
   "cell_type": "markdown",
   "metadata": {
    "collapsed": true
   },
   "source": [
    "The err_rate for the test data is 1.28%; AUC equals to 0.977"
   ]
  },
  {
   "cell_type": "markdown",
   "metadata": {},
   "source": [
    "# compare the results of test and train"
   ]
  },
  {
   "cell_type": "markdown",
   "metadata": {},
   "source": [
    "Training data has a lower error rate than test data. However, AUC of training data is lower than test data"
   ]
  },
  {
   "cell_type": "code",
   "execution_count": null,
   "metadata": {
    "collapsed": true
   },
   "outputs": [],
   "source": []
  }
 ],
 "metadata": {
  "kernelspec": {
   "display_name": "Python 2",
   "language": "python",
   "name": "python2"
  },
  "language_info": {
   "codemirror_mode": {
    "name": "ipython",
    "version": 2
   },
   "file_extension": ".py",
   "mimetype": "text/x-python",
   "name": "python",
   "nbconvert_exporter": "python",
   "pygments_lexer": "ipython2",
   "version": "2.7.13"
  }
 },
 "nbformat": 4,
 "nbformat_minor": 2
}
